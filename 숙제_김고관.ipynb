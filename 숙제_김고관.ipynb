{
 "cells": [
  {
   "cell_type": "code",
   "execution_count": 3,
   "id": "5a0a377c",
   "metadata": {},
   "outputs": [
    {
     "name": "stdout",
     "output_type": "stream",
     "text": [
      "Hello 헬조선\n"
     ]
    }
   ],
   "source": [
    "#1번\n",
    "print(\"Hello 헬조선\")"
   ]
  },
  {
   "cell_type": "markdown",
   "id": "d94a3e42",
   "metadata": {},
   "source": []
  },
  {
   "cell_type": "code",
   "execution_count": 4,
   "id": "084f34f8",
   "metadata": {},
   "outputs": [
    {
     "name": "stdout",
     "output_type": "stream",
     "text": [
      "Mary's cosmetic\n"
     ]
    }
   ],
   "source": [
    "#2\n",
    "print(\"Mary's cosmetic\")"
   ]
  },
  {
   "cell_type": "code",
   "execution_count": 5,
   "id": "80923a59",
   "metadata": {},
   "outputs": [
    {
     "ename": "SyntaxError",
     "evalue": "invalid syntax. Perhaps you forgot a comma? (1461910480.py, line 2)",
     "output_type": "error",
     "traceback": [
      "\u001b[1;36m  Cell \u001b[1;32mIn[5], line 2\u001b[1;36m\u001b[0m\n\u001b[1;33m    print(\"신씨 소리질러. \"훠우~\"\")\u001b[0m\n\u001b[1;37m          ^\u001b[0m\n\u001b[1;31mSyntaxError\u001b[0m\u001b[1;31m:\u001b[0m invalid syntax. Perhaps you forgot a comma?\n"
     ]
    }
   ],
   "source": [
    "#3\n",
    "print(\"신씨 소리질러. \"훠우~\"\")"
   ]
  },
  {
   "cell_type": "code",
   "execution_count": 6,
   "id": "d01a8135",
   "metadata": {},
   "outputs": [
    {
     "name": "stdout",
     "output_type": "stream",
     "text": [
      "어이 신씨 소리질러~ \"훠우~\"\n"
     ]
    }
   ],
   "source": [
    "print('어이 신씨 소리질러~ \"훠우~\"')"
   ]
  },
  {
   "cell_type": "code",
   "execution_count": 12,
   "id": "93daf020",
   "metadata": {},
   "outputs": [
    {
     "name": "stdout",
     "output_type": "stream",
     "text": [
      "\"c:/Windows\"\n"
     ]
    }
   ],
   "source": [
    "#4\n",
    "print('\"c:/Windows\"')"
   ]
  },
  {
   "cell_type": "code",
   "execution_count": 14,
   "id": "3adb6953",
   "metadata": {
    "scrolled": true
   },
   "outputs": [
    {
     "name": "stdout",
     "output_type": "stream",
     "text": [
      "안녕하세요.\n",
      "만나서\t\t반갑습니다.\n"
     ]
    }
   ],
   "source": [
    "#5\n",
    "print(\"안녕하세요.\\n만나서\\t\\t반갑습니다.\")"
   ]
  },
  {
   "cell_type": "code",
   "execution_count": 27,
   "id": "88c4afa7",
   "metadata": {},
   "outputs": [
    {
     "name": "stdout",
     "output_type": "stream",
     "text": [
      "오늘은 일요일\n"
     ]
    }
   ],
   "source": [
    "#6\n",
    "print(\"오늘은\",\"일요일\")"
   ]
  },
  {
   "cell_type": "code",
   "execution_count": 16,
   "id": "7083d497",
   "metadata": {},
   "outputs": [
    {
     "name": "stdout",
     "output_type": "stream",
     "text": [
      "naver;kakao;sk;samsung\n"
     ]
    }
   ],
   "source": [
    "#7\n",
    "print(\"naver\",\"kakao\",\"sk\",\"samsung\",sep=\";\")"
   ]
  },
  {
   "cell_type": "code",
   "execution_count": 17,
   "id": "6a2fc12b",
   "metadata": {},
   "outputs": [
    {
     "name": "stdout",
     "output_type": "stream",
     "text": [
      "naver/kakao/sk/samsung\n"
     ]
    }
   ],
   "source": [
    "#8\n",
    "print(\"naver\",\"kakao\",\"sk\",\"samsung\",sep=\"/\")"
   ]
  },
  {
   "cell_type": "code",
   "execution_count": 19,
   "id": "144743e0",
   "metadata": {},
   "outputs": [
    {
     "name": "stdout",
     "output_type": "stream",
     "text": [
      "firstsecond\n"
     ]
    }
   ],
   "source": [
    "#9\n",
    "print(\"first\",end=\"\");print(\"second\")"
   ]
  },
  {
   "cell_type": "code",
   "execution_count": 26,
   "id": "08071df6",
   "metadata": {},
   "outputs": [
    {
     "name": "stdout",
     "output_type": "stream",
     "text": [
      "고민\n",
      "정\n"
     ]
    }
   ],
   "source": [
    "#9 응용-> 이건 왜 이러는거지?\n",
    "print(\"고\",end=\"\");print(\"민\");print(\"정\")"
   ]
  },
  {
   "cell_type": "code",
   "execution_count": 37,
   "id": "db7a15b9",
   "metadata": {},
   "outputs": [
    {
     "name": "stdout",
     "output_type": "stream",
     "text": [
      "1.6666666666666667\n"
     ]
    }
   ],
   "source": [
    " #10\n",
    "print(5/3)"
   ]
  },
  {
   "cell_type": "code",
   "execution_count": 38,
   "id": "00082cd3",
   "metadata": {},
   "outputs": [
    {
     "ename": "SyntaxError",
     "evalue": "invalid syntax (2781693314.py, line 3)",
     "output_type": "error",
     "traceback": [
      "\u001b[1;36m  Cell \u001b[1;32mIn[38], line 3\u001b[1;36m\u001b[0m\n\u001b[1;33m    총 평가금액= 삼전*10\u001b[0m\n\u001b[1;37m      ^\u001b[0m\n\u001b[1;31mSyntaxError\u001b[0m\u001b[1;31m:\u001b[0m invalid syntax\n"
     ]
    }
   ],
   "source": [
    "#11\n",
    "삼전=50,000\n",
    "총 평가금액= 삼전*10\n",
    "print(총 평가금액)"
   ]
  },
  {
   "cell_type": "code",
   "execution_count": 39,
   "id": "a4f5af5c",
   "metadata": {},
   "outputs": [
    {
     "name": "stdout",
     "output_type": "stream",
     "text": [
      "500000\n"
     ]
    }
   ],
   "source": [
    "#11\n",
    "삼전=50000\n",
    "총평가금액=삼전*10\n",
    "print(총평가금액)"
   ]
  },
  {
   "cell_type": "code",
   "execution_count": 40,
   "id": "8f6b1465",
   "metadata": {},
   "outputs": [],
   "source": [
    "#11번에서  \"총 평가금액\" 띄어쓰기하면 왜 안됨? 어이없네 파이썬 이 멍청한 언어체계 이거도 못알아 먹냐? "
   ]
  },
  {
   "cell_type": "code",
   "execution_count": 46,
   "id": "8a3f2b1c",
   "metadata": {},
   "outputs": [
    {
     "name": "stdout",
     "output_type": "stream",
     "text": [
      "298000000000000 <class 'int'>\n",
      "50000 <class 'int'>\n",
      "15.79 <class 'float'>\n"
     ]
    }
   ],
   "source": [
    "#12\n",
    "시가총액=298000000000000\n",
    "현재가=50000\n",
    "PER=15.79\n",
    "print(시가총액, type(시가총액))\n",
    "print(현재가, type(현재가))\n",
    "print(PER, type(PER))"
   ]
  },
  {
   "cell_type": "code",
   "execution_count": 48,
   "id": "b9c52e3c",
   "metadata": {},
   "outputs": [
    {
     "ename": "SyntaxError",
     "evalue": "invalid syntax (3860881136.py, line 2)",
     "output_type": "error",
     "traceback": [
      "\u001b[1;36m  Cell \u001b[1;32mIn[48], line 2\u001b[1;36m\u001b[0m\n\u001b[1;33m    \"int\"랑 \"float\"가 뭐였더라\u001b[0m\n\u001b[1;37m         ^\u001b[0m\n\u001b[1;31mSyntaxError\u001b[0m\u001b[1;31m:\u001b[0m invalid syntax\n"
     ]
    }
   ],
   "source": [
    "#12\n",
    "\"int\"랑 \"float\"가 뭐였더라"
   ]
  },
  {
   "cell_type": "markdown",
   "id": "0ed77747",
   "metadata": {},
   "source": [
    "s=hello\n",
    "t=python\n",
    "print(s=\"!\",t)"
   ]
  },
  {
   "cell_type": "code",
   "execution_count": 50,
   "id": "5f930658",
   "metadata": {},
   "outputs": [
    {
     "ename": "NameError",
     "evalue": "name 'hello' is not defined",
     "output_type": "error",
     "traceback": [
      "\u001b[1;31m---------------------------------------------------------------------------\u001b[0m",
      "\u001b[1;31mNameError\u001b[0m                                 Traceback (most recent call last)",
      "Cell \u001b[1;32mIn[50], line 1\u001b[0m\n\u001b[1;32m----> 1\u001b[0m s\u001b[38;5;241m=\u001b[39m\u001b[43mhello\u001b[49m\n\u001b[0;32m      2\u001b[0m t\u001b[38;5;241m=\u001b[39mpython\n\u001b[0;32m      3\u001b[0m \u001b[38;5;28mprint\u001b[39m(s\u001b[38;5;241m+\u001b[39m\u001b[38;5;124m\"\u001b[39m\u001b[38;5;124m!\u001b[39m\u001b[38;5;124m\"\u001b[39m,t)\n",
      "\u001b[1;31mNameError\u001b[0m: name 'hello' is not defined"
     ]
    }
   ],
   "source": [
    "s=hello\n",
    "t=python\n",
    "print(s+\"!\",t)"
   ]
  },
  {
   "cell_type": "code",
   "execution_count": 53,
   "id": "73ce6955",
   "metadata": {},
   "outputs": [
    {
     "name": "stdout",
     "output_type": "stream",
     "text": [
      "hello! python\n"
     ]
    }
   ],
   "source": [
    "#13\n",
    "s=\"hello\"\n",
    "t=\"python\"\n",
    "print(s+\"!\",t)"
   ]
  },
  {
   "cell_type": "code",
   "execution_count": null,
   "id": "3dba8034",
   "metadata": {},
   "outputs": [],
   "source": []
  }
 ],
 "metadata": {
  "kernelspec": {
   "display_name": "Python 3 (ipykernel)",
   "language": "python",
   "name": "python3"
  },
  "language_info": {
   "codemirror_mode": {
    "name": "ipython",
    "version": 3
   },
   "file_extension": ".py",
   "mimetype": "text/x-python",
   "name": "python",
   "nbconvert_exporter": "python",
   "pygments_lexer": "ipython3",
   "version": "3.10.9"
  }
 },
 "nbformat": 4,
 "nbformat_minor": 5
}
